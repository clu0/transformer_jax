{
 "cells": [
  {
   "cell_type": "code",
   "execution_count": 2,
   "metadata": {},
   "outputs": [],
   "source": [
    "import jax\n",
    "from typing import Any, Callable, Sequence\n",
    "from jax import random, numpy as jnp\n",
    "import flax\n",
    "from flax import linen as nn"
   ]
  },
  {
   "cell_type": "code",
   "execution_count": 3,
   "metadata": {},
   "outputs": [],
   "source": [
    "class ExplicitMLP(nn.Module):\n",
    "    features: Sequence[int]\n",
    "\n",
    "    def setup(self):\n",
    "        # we automatically know what to do with lists, dicts of submodules\n",
    "        self.layers = [nn.Dense(feat) for feat in self.features]\n",
    "        # for single submodules, we would just write:\n",
    "        # self.layer1 = nn.Dense(feat1)\n",
    "\n",
    "    def __call__(self, inputs):\n",
    "        x = inputs\n",
    "        for i, lyr in enumerate(self.layers):\n",
    "            x = lyr(x)\n",
    "            if i != len(self.layers) - 1:\n",
    "                x = nn.relu(x)\n",
    "        return x\n"
   ]
  },
  {
   "cell_type": "code",
   "execution_count": 9,
   "metadata": {},
   "outputs": [],
   "source": [
    "key1, key2 = random.split(random.key(0), 2)\n",
    "x = random.uniform(key1, (4,4))"
   ]
  },
  {
   "cell_type": "code",
   "execution_count": 13,
   "metadata": {},
   "outputs": [
    {
     "name": "stdout",
     "output_type": "stream",
     "text": [
      "initialized parameter shapes:\n",
      " {'params': {'layers_0': {'bias': (3,), 'kernel': (4, 3)}, 'layers_1': {'bias': (4,), 'kernel': (3, 4)}, 'layers_2': {'bias': (5,), 'kernel': (4, 5)}}}\n"
     ]
    }
   ],
   "source": [
    "model = ExplicitMLP(features=[3,4,5])\n",
    "params = model.init(key2, x)\n",
    "\n",
    "print('initialized parameter shapes:\\n', jax.tree_util.tree_map(jnp.shape, flax.core.unfreeze(params)))"
   ]
  },
  {
   "cell_type": "code",
   "execution_count": 14,
   "metadata": {},
   "outputs": [
    {
     "name": "stdout",
     "output_type": "stream",
     "text": [
      "output:\n",
      " [[ 0.          0.          0.          0.          0.        ]\n",
      " [ 0.0072379  -0.00810347 -0.02550939  0.02151716 -0.01261241]\n",
      " [ 0.          0.          0.          0.          0.        ]\n",
      " [ 0.          0.          0.          0.          0.        ]]\n"
     ]
    }
   ],
   "source": [
    "y = model.apply(params, x)\n",
    "print('output:\\n', y)"
   ]
  },
  {
   "cell_type": "code",
   "execution_count": 20,
   "metadata": {},
   "outputs": [
    {
     "data": {
      "text/plain": [
       "(4, 4, 2, 3)"
      ]
     },
     "execution_count": 20,
     "metadata": {},
     "output_type": "execute_result"
    }
   ],
   "source": [
    "x.shape + (2, 3)"
   ]
  },
  {
   "cell_type": "code",
   "execution_count": 16,
   "metadata": {},
   "outputs": [],
   "source": [
    "class MLP(nn.Module):\n",
    "    n_embd: int\n",
    "    n_inner: int\n",
    "    p_dropout: float = 0.5\n",
    "    \n",
    "    def setup(self):\n",
    "        self.dense1 = nn.Dense(self.n_inner)\n",
    "        self.drop1 = nn.Dropout(rate=self.p_dropout)\n",
    "        self.dense2 = nn.Dense(self.n_embd)\n",
    "        self.drop2 = nn.Dropout(rate=self.p_dropout)\n",
    "        \n",
    "    def __call__(self, x, training: bool):\n",
    "        x = self.dense1(x)\n",
    "        x = nn.gelu(x)\n",
    "        x = self.drop1(x, deterministic=not training)\n",
    "        x = self.dense2(x)\n",
    "        x = self.drop2(x, deterministic=not training)\n",
    "        return x"
   ]
  },
  {
   "cell_type": "code",
   "execution_count": 17,
   "metadata": {},
   "outputs": [],
   "source": [
    "def f(x, add_one: bool):\n",
    "    if add_one:\n",
    "        return x + 1\n",
    "    else:\n",
    "        return x\n",
    "\n",
    "jit_f = jax.jit(f)"
   ]
  },
  {
   "cell_type": "code",
   "execution_count": 18,
   "metadata": {},
   "outputs": [
    {
     "ename": "TracerBoolConversionError",
     "evalue": "Attempted boolean conversion of traced array with shape bool[]..\nThe error occurred while tracing the function f at /var/folders/t8/dfjnqkz511g38qs8fqdv507w0000gn/T/ipykernel_73814/3259198140.py:1 for jit. This concrete value was not available in Python because it depends on the value of the argument add_one.\nSee https://jax.readthedocs.io/en/latest/errors.html#jax.errors.TracerBoolConversionError",
     "output_type": "error",
     "traceback": [
      "\u001b[0;31m---------------------------------------------------------------------------\u001b[0m",
      "\u001b[0;31mTracerBoolConversionError\u001b[0m                 Traceback (most recent call last)",
      "Cell \u001b[0;32mIn[18], line 1\u001b[0m\n\u001b[0;32m----> 1\u001b[0m \u001b[43mjit_f\u001b[49m\u001b[43m(\u001b[49m\u001b[38;5;241;43m1\u001b[39;49m\u001b[43m,\u001b[49m\u001b[43m \u001b[49m\u001b[38;5;28;43;01mTrue\u001b[39;49;00m\u001b[43m)\u001b[49m\n",
      "    \u001b[0;31m[... skipping hidden 11 frame]\u001b[0m\n",
      "Cell \u001b[0;32mIn[17], line 2\u001b[0m, in \u001b[0;36mf\u001b[0;34m(x, add_one)\u001b[0m\n\u001b[1;32m      1\u001b[0m \u001b[38;5;28;01mdef\u001b[39;00m \u001b[38;5;21mf\u001b[39m(x, add_one: \u001b[38;5;28mbool\u001b[39m):\n\u001b[0;32m----> 2\u001b[0m     \u001b[38;5;28;01mif\u001b[39;00m add_one:\n\u001b[1;32m      3\u001b[0m         \u001b[38;5;28;01mreturn\u001b[39;00m x \u001b[38;5;241m+\u001b[39m \u001b[38;5;241m1\u001b[39m\n\u001b[1;32m      4\u001b[0m     \u001b[38;5;28;01melse\u001b[39;00m:\n",
      "    \u001b[0;31m[... skipping hidden 1 frame]\u001b[0m\n",
      "File \u001b[0;32m~/Documents/projects/Sandbox/scaling/transformer_jax/.venv/lib/python3.12/site-packages/jax/_src/core.py:1492\u001b[0m, in \u001b[0;36mconcretization_function_error.<locals>.error\u001b[0;34m(self, arg)\u001b[0m\n\u001b[1;32m   1491\u001b[0m \u001b[38;5;28;01mdef\u001b[39;00m \u001b[38;5;21merror\u001b[39m(\u001b[38;5;28mself\u001b[39m, arg):\n\u001b[0;32m-> 1492\u001b[0m   \u001b[38;5;28;01mraise\u001b[39;00m TracerBoolConversionError(arg)\n",
      "\u001b[0;31mTracerBoolConversionError\u001b[0m: Attempted boolean conversion of traced array with shape bool[]..\nThe error occurred while tracing the function f at /var/folders/t8/dfjnqkz511g38qs8fqdv507w0000gn/T/ipykernel_73814/3259198140.py:1 for jit. This concrete value was not available in Python because it depends on the value of the argument add_one.\nSee https://jax.readthedocs.io/en/latest/errors.html#jax.errors.TracerBoolConversionError"
     ]
    }
   ],
   "source": [
    "jit_f(1, True)"
   ]
  },
  {
   "cell_type": "code",
   "execution_count": 21,
   "metadata": {},
   "outputs": [],
   "source": [
    "import numpy as np"
   ]
  },
  {
   "cell_type": "code",
   "execution_count": 25,
   "metadata": {},
   "outputs": [],
   "source": [
    "a = np.zeros((2, 4, 3, 5))"
   ]
  },
  {
   "cell_type": "code",
   "execution_count": 26,
   "metadata": {},
   "outputs": [],
   "source": [
    "a[..., :] = np.arange(5)"
   ]
  },
  {
   "cell_type": "code",
   "execution_count": 34,
   "metadata": {},
   "outputs": [],
   "source": [
    "a[-1, -1, -1, :] = 0"
   ]
  },
  {
   "cell_type": "code",
   "execution_count": 35,
   "metadata": {},
   "outputs": [
    {
     "data": {
      "text/plain": [
       "array([[[[0., 1., 2., 3., 4.],\n",
       "         [0., 1., 2., 3., 4.],\n",
       "         [0., 1., 2., 3., 4.]],\n",
       "\n",
       "        [[0., 1., 2., 3., 4.],\n",
       "         [0., 1., 2., 3., 4.],\n",
       "         [0., 1., 2., 3., 4.]],\n",
       "\n",
       "        [[0., 1., 2., 3., 4.],\n",
       "         [0., 1., 2., 3., 4.],\n",
       "         [0., 1., 2., 3., 4.]],\n",
       "\n",
       "        [[0., 1., 2., 3., 4.],\n",
       "         [0., 1., 2., 3., 4.],\n",
       "         [0., 1., 2., 3., 4.]]],\n",
       "\n",
       "\n",
       "       [[[0., 1., 2., 3., 4.],\n",
       "         [0., 1., 2., 3., 4.],\n",
       "         [0., 1., 2., 3., 4.]],\n",
       "\n",
       "        [[0., 1., 2., 3., 4.],\n",
       "         [0., 1., 2., 3., 4.],\n",
       "         [0., 1., 2., 3., 4.]],\n",
       "\n",
       "        [[0., 1., 2., 3., 4.],\n",
       "         [0., 1., 2., 3., 4.],\n",
       "         [0., 1., 2., 3., 4.]],\n",
       "\n",
       "        [[0., 1., 2., 3., 4.],\n",
       "         [0., 1., 2., 3., 4.],\n",
       "         [0., 0., 0., 0., 0.]]]])"
      ]
     },
     "execution_count": 35,
     "metadata": {},
     "output_type": "execute_result"
    }
   ],
   "source": [
    "a"
   ]
  },
  {
   "cell_type": "code",
   "execution_count": 28,
   "metadata": {},
   "outputs": [],
   "source": [
    "b = np.zeros((2, 5, 3, 4))"
   ]
  },
  {
   "cell_type": "code",
   "execution_count": 29,
   "metadata": {},
   "outputs": [],
   "source": [
    "b[:] = np.arange(5).reshape((1, 5, 1, 1))"
   ]
  },
  {
   "cell_type": "code",
   "execution_count": 30,
   "metadata": {},
   "outputs": [
    {
     "data": {
      "text/plain": [
       "array([[[[0., 0., 0., 0.],\n",
       "         [0., 0., 0., 0.],\n",
       "         [0., 0., 0., 0.]],\n",
       "\n",
       "        [[1., 1., 1., 1.],\n",
       "         [1., 1., 1., 1.],\n",
       "         [1., 1., 1., 1.]],\n",
       "\n",
       "        [[2., 2., 2., 2.],\n",
       "         [2., 2., 2., 2.],\n",
       "         [2., 2., 2., 2.]],\n",
       "\n",
       "        [[3., 3., 3., 3.],\n",
       "         [3., 3., 3., 3.],\n",
       "         [3., 3., 3., 3.]],\n",
       "\n",
       "        [[4., 4., 4., 4.],\n",
       "         [4., 4., 4., 4.],\n",
       "         [4., 4., 4., 4.]]],\n",
       "\n",
       "\n",
       "       [[[0., 0., 0., 0.],\n",
       "         [0., 0., 0., 0.],\n",
       "         [0., 0., 0., 0.]],\n",
       "\n",
       "        [[1., 1., 1., 1.],\n",
       "         [1., 1., 1., 1.],\n",
       "         [1., 1., 1., 1.]],\n",
       "\n",
       "        [[2., 2., 2., 2.],\n",
       "         [2., 2., 2., 2.],\n",
       "         [2., 2., 2., 2.]],\n",
       "\n",
       "        [[3., 3., 3., 3.],\n",
       "         [3., 3., 3., 3.],\n",
       "         [3., 3., 3., 3.]],\n",
       "\n",
       "        [[4., 4., 4., 4.],\n",
       "         [4., 4., 4., 4.],\n",
       "         [4., 4., 4., 4.]]]])"
      ]
     },
     "execution_count": 30,
     "metadata": {},
     "output_type": "execute_result"
    }
   ],
   "source": [
    "b"
   ]
  },
  {
   "cell_type": "code",
   "execution_count": 36,
   "metadata": {},
   "outputs": [],
   "source": [
    "c = np.einsum('bthd,bdhT->bhtT', a, b)"
   ]
  },
  {
   "cell_type": "code",
   "execution_count": 37,
   "metadata": {},
   "outputs": [
    {
     "data": {
      "text/plain": [
       "array([[[[30., 30., 30., 30.],\n",
       "         [30., 30., 30., 30.],\n",
       "         [30., 30., 30., 30.],\n",
       "         [30., 30., 30., 30.]],\n",
       "\n",
       "        [[30., 30., 30., 30.],\n",
       "         [30., 30., 30., 30.],\n",
       "         [30., 30., 30., 30.],\n",
       "         [30., 30., 30., 30.]],\n",
       "\n",
       "        [[30., 30., 30., 30.],\n",
       "         [30., 30., 30., 30.],\n",
       "         [30., 30., 30., 30.],\n",
       "         [30., 30., 30., 30.]]],\n",
       "\n",
       "\n",
       "       [[[30., 30., 30., 30.],\n",
       "         [30., 30., 30., 30.],\n",
       "         [30., 30., 30., 30.],\n",
       "         [30., 30., 30., 30.]],\n",
       "\n",
       "        [[30., 30., 30., 30.],\n",
       "         [30., 30., 30., 30.],\n",
       "         [30., 30., 30., 30.],\n",
       "         [30., 30., 30., 30.]],\n",
       "\n",
       "        [[30., 30., 30., 30.],\n",
       "         [30., 30., 30., 30.],\n",
       "         [30., 30., 30., 30.],\n",
       "         [ 0.,  0.,  0.,  0.]]]])"
      ]
     },
     "execution_count": 37,
     "metadata": {},
     "output_type": "execute_result"
    }
   ],
   "source": [
    "c"
   ]
  },
  {
   "cell_type": "code",
   "execution_count": 33,
   "metadata": {},
   "outputs": [
    {
     "data": {
      "text/plain": [
       "30"
      ]
     },
     "execution_count": 33,
     "metadata": {},
     "output_type": "execute_result"
    }
   ],
   "source": [
    "1 + 4 + 9 + 16"
   ]
  },
  {
   "cell_type": "code",
   "execution_count": null,
   "metadata": {},
   "outputs": [],
   "source": []
  }
 ],
 "metadata": {
  "kernelspec": {
   "display_name": "Python 3",
   "language": "python",
   "name": "python3"
  },
  "language_info": {
   "codemirror_mode": {
    "name": "ipython",
    "version": 3
   },
   "file_extension": ".py",
   "mimetype": "text/x-python",
   "name": "python",
   "nbconvert_exporter": "python",
   "pygments_lexer": "ipython3",
   "version": "3.12.0"
  }
 },
 "nbformat": 4,
 "nbformat_minor": 2
}
